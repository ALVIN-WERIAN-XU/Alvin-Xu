{
 "cells": [
  {
   "cell_type": "markdown",
   "metadata": {},
   "source": [
    "French Trot Horse Competition \n",
    "\n",
    "Weiran Xu\n",
    "Anthony Zhou\n",
    "Chang Xu"
   ]
  },
  {
   "cell_type": "code",
   "execution_count": 6,
   "metadata": {},
   "outputs": [],
   "source": [
    "import pandas as pd\n",
    "from sklearn.preprocessing import LabelEncoder\n",
    "import numpy as np\n",
    "from sklearn.feature_extraction.text import TfidfVectorizer\n",
    "from torch.utils.data import dataset\n",
    "import torch\n",
    "import torch.nn as nn\n",
    "import torch.nn.functional as F"
   ]
  },
  {
   "cell_type": "code",
   "execution_count": 7,
   "metadata": {},
   "outputs": [],
   "source": [
    "drop_cols = [\"RaceStartTime\", \"FoalingDate\", \"ClassRestriction\"]\n",
    "\n",
    "Standard = [\"AgeRestriction\", \"Barrier\", \"ClassRestriction\", \"CourseIndicator\", \"DamID\", \"Distance\", \"FoalingCountry\",\n",
    "            \"FoalingDate\", \"FrontShoes\", \"Gender\", \"GoingAbbrev\", \"GoingID\", \"HandicapDistance\", \"HandicapType\",\n",
    "            \"HindShoes\", \"HorseAge\", \"HorseID\", \"JockeyID\", \"RaceGroup\", \"RaceID\", \"RacePrizemoney\", \"RaceStartTime\",\n",
    "            \"RacingSubType\", \"Saddlecloth\", \"SexRestriction\", \"SireID\", \"StartType\", \"StartingLine\", \"Surface\",\n",
    "            \"TrackID\", \"TrainerID\", \"WeightCarried\", \"WetnessScale\"]\n",
    "\n",
    "Performance = [\"BeatenMargin\", \"Disqualified\", \"FinishPosition\", \"PIRPosition\", \"Prizemoney\", \"RaceOverallTime\",\n",
    "               \"PriceSP\", \"NoFrontCover\", \"PositionInRunning\", \"WideOffRail\"]\n"
   ]
  },
  {
   "cell_type": "markdown",
   "metadata": {},
   "source": [
    "Split training and test dataset by the giving date"
   ]
  },
  {
   "cell_type": "code",
   "execution_count": 15,
   "metadata": {},
   "outputs": [],
   "source": [
    "df = pd.read_csv('data.csv', index_col=0)\n",
    "object_columns = df.select_dtypes(include=['object']).columns\n",
    "df['RaceStartTime'] = pd.to_datetime(df['RaceStartTime'])\n",
    "df_before_2021 = df[df['RaceStartTime'] < '2021-11-01']\n",
    "df_after_2021 = df[df['RaceStartTime'] >= '2021-11-01']\n",
    "df_before_2021_index = df_before_2021.index\n",
    "df_after_2021_index = df_after_2021.index"
   ]
  },
  {
   "cell_type": "code",
   "execution_count": 9,
   "metadata": {},
   "outputs": [
    {
     "name": "stdout",
     "output_type": "stream",
     "text": [
      "['AgeRestriction', 'CourseIndicator', 'FinishPosition', 'FoalingCountry', 'Gender', 'GoingAbbrev', 'HandicapType', 'RaceGroup', 'RacingSubType', 'SexRestriction', 'StartType', 'Surface']\n"
     ]
    }
   ],
   "source": [
    "# 1. convert all object data to strings\n",
    "df = df.apply(lambda v: v.astype(str).str.strip() if v.dtype == \"object\" else v)\n",
    "# 2. Analyze the values of each column of data\n",
    "# for column in object_columns:\n",
    "#     print(f\"{column}: {df[column].nunique()}\")\n",
    "# 3. drop useless data columns\n",
    "df = df.drop(drop_cols, axis=1)\n",
    "object_columns = [col for col in object_columns if col not in drop_cols]\n",
    "print(object_columns)\n",
    "# Exclude columns from labels\n",
    "object_columns = [col for col in object_columns if col not in Performance]\n",
    "# 4. Normalization of numerical data\n",
    "for column in Standard:\n",
    "    if column not in drop_cols and column not in object_columns:\n",
    "        df[column] = (df[column] - df[column].mean()) / df[column].std()\n",
    "# 5. Unique heat coding for non-numeric columns\n",
    "df = pd.get_dummies(df, columns=object_columns)\n",
    "# 6. Delineation of training and test sets\n",
    "df_train = df.loc[df_before_2021_index]\n",
    "df_test = df.loc[df_after_2021_index]"
   ]
  },
  {
   "cell_type": "code",
   "execution_count": 36,
   "metadata": {},
   "outputs": [
    {
     "name": "stdout",
     "output_type": "stream",
     "text": [
      "[[0.         0.         0.         0.        ]\n",
      " [0.         0.         0.         0.        ]\n",
      " [0.         0.         0.         0.        ]\n",
      " [0.         0.         0.         0.        ]\n",
      " [0.         0.         0.         0.        ]\n",
      " [0.         0.         0.         0.        ]\n",
      " [0.         0.         0.         0.        ]\n",
      " [0.         0.         0.         0.        ]\n",
      " [0.         0.         0.         0.        ]\n",
      " [0.         0.         0.         0.        ]\n",
      " [0.         0.         0.         0.        ]\n",
      " [0.         0.         0.         0.        ]\n",
      " [0.         0.         0.         0.        ]\n",
      " [0.         0.         0.         0.        ]\n",
      " [0.         0.         0.         0.        ]\n",
      " [0.         0.         0.         0.        ]\n",
      " [0.         0.         0.         0.        ]\n",
      " [0.         0.         0.         0.        ]\n",
      " [0.         0.         0.         0.        ]\n",
      " [0.         0.         0.         0.        ]\n",
      " [0.         0.         0.         0.        ]\n",
      " [0.         0.         0.         0.        ]\n",
      " [0.         0.         0.         0.        ]\n",
      " [0.         0.         0.         0.        ]\n",
      " [0.         0.         0.         0.        ]\n",
      " [0.         0.         0.         0.        ]\n",
      " [0.         0.         0.         0.        ]\n",
      " [0.         0.         0.         0.        ]\n",
      " [0.         0.         0.         0.        ]\n",
      " [0.         0.         0.         0.        ]\n",
      " [1.         0.         0.         0.        ]\n",
      " [0.         0.         0.         0.        ]\n",
      " [0.         0.         0.         0.        ]\n",
      " [0.         0.         0.         0.        ]\n",
      " [0.         0.         1.         0.        ]\n",
      " [0.69428559 0.         0.7196996  0.        ]\n",
      " [0.         0.         1.         0.        ]\n",
      " [0.         0.         1.         0.        ]\n",
      " [0.         0.         1.         0.        ]\n",
      " [0.         0.72108753 0.69284398 0.        ]\n",
      " [0.         0.         0.         0.        ]\n",
      " [0.         0.         0.         0.        ]\n",
      " [0.         0.         0.         1.        ]\n",
      " [0.67979381 0.         0.         0.73340328]\n",
      " [0.         0.         0.         1.        ]\n",
      " [0.         0.         0.         1.        ]\n",
      " [0.         0.70710678 0.         0.70710678]\n",
      " [0.         0.         0.         0.        ]\n",
      " [0.         0.         0.         0.        ]\n",
      " [0.         0.         0.         0.        ]\n",
      " [1.         0.         0.         0.        ]\n",
      " [0.         0.         0.         0.        ]\n",
      " [0.         1.         0.         0.        ]\n",
      " [0.         0.         0.         0.        ]\n",
      " [0.         0.         0.         0.        ]\n",
      " [0.         0.         0.         0.        ]\n",
      " [1.         0.         0.         0.        ]\n",
      " [0.         1.         0.         0.        ]\n",
      " [0.         0.         0.         0.        ]\n",
      " [0.         0.         0.         0.        ]\n",
      " [0.         1.         0.         0.        ]\n",
      " [1.         0.         0.         0.        ]\n",
      " [0.         0.         0.         0.        ]\n",
      " [0.         0.         0.         0.        ]\n",
      " [1.         0.         0.         0.        ]\n",
      " [0.         0.         0.         0.        ]\n",
      " [0.         0.         0.         0.        ]\n",
      " [0.         0.         0.         0.        ]\n",
      " [0.         0.         0.         0.        ]\n",
      " [0.         0.         0.         0.        ]\n",
      " [0.         0.         0.         0.        ]\n",
      " [0.         0.         0.         0.        ]\n",
      " [0.         0.         0.         0.        ]\n",
      " [0.         0.         0.         0.        ]\n",
      " [0.         0.         0.         0.        ]\n",
      " [0.         0.         0.         0.        ]\n",
      " [0.         0.         0.         0.        ]\n",
      " [0.         0.         0.         0.        ]\n",
      " [0.         0.         0.         0.        ]\n",
      " [0.         0.         0.         0.        ]\n",
      " [0.         0.         0.         0.        ]\n",
      " [0.         0.         0.         0.        ]\n",
      " [0.         0.         0.         0.        ]\n",
      " [0.         0.         0.         0.        ]\n",
      " [0.         0.         0.         0.        ]\n",
      " [0.         0.         0.         0.        ]\n",
      " [0.         0.         0.         0.        ]\n",
      " [0.         0.         0.         0.        ]\n",
      " [0.         0.         0.         0.        ]\n",
      " [0.         0.         0.         0.        ]\n",
      " [0.         0.         0.         0.        ]\n",
      " [0.         0.         0.         0.        ]\n",
      " [0.         0.         0.         0.        ]\n",
      " [0.         0.         0.         0.        ]\n",
      " [0.         0.         0.         0.        ]\n",
      " [0.         0.         0.         0.        ]\n",
      " [0.         0.         0.         0.        ]\n",
      " [0.         0.         0.         0.        ]\n",
      " [0.         0.         0.         0.        ]\n",
      " [0.         0.         0.         0.        ]\n",
      " [0.         0.         0.         0.        ]\n",
      " [0.         0.         0.         0.        ]\n",
      " [0.         0.         0.         0.        ]\n",
      " [0.         0.         0.         0.        ]\n",
      " [0.         0.         0.         0.        ]\n",
      " [0.         0.         0.         0.        ]\n",
      " [0.         0.         0.         0.        ]\n",
      " [0.         0.         0.         0.        ]\n",
      " [0.         0.         0.         0.        ]\n",
      " [0.         0.         0.         0.        ]\n",
      " [0.         0.         0.         0.        ]\n",
      " [0.         0.         0.         0.        ]]\n"
     ]
    }
   ],
   "source": [
    "tfidf = TfidfVectorizer(sublinear_tf=True, min_df=5)#, stop_words='english')\n",
    "train = tfidf.fit_transform(df_train).toarray()\n",
    "test =  tfidf.transform(df_test).toarray()\n",
    "\n"
   ]
  },
  {
   "cell_type": "code",
   "execution_count": 35,
   "metadata": {},
   "outputs": [
    {
     "ename": "NameError",
     "evalue": "name 'x' is not defined",
     "output_type": "error",
     "traceback": [
      "\u001b[1;31m---------------------------------------------------------------------------\u001b[0m",
      "\u001b[1;31mNameError\u001b[0m                                 Traceback (most recent call last)",
      "\u001b[1;32mc:\\Users\\13433\\Desktop\\trot.ipynb Cell 8\u001b[0m line \u001b[0;36m1\n\u001b[1;32m----> <a href='vscode-notebook-cell:/c%3A/Users/13433/Desktop/trot.ipynb#X10sZmlsZQ%3D%3D?line=0'>1</a>\u001b[0m test_x \u001b[39m=\u001b[39m torch\u001b[39m.\u001b[39mtensor(test[x],dtype\u001b[39m=\u001b[39mtorch\u001b[39m.\u001b[39mfloat32)\n\u001b[0;32m      <a href='vscode-notebook-cell:/c%3A/Users/13433/Desktop/trot.ipynb#X10sZmlsZQ%3D%3D?line=1'>2</a>\u001b[0m test_x1 \u001b[39m=\u001b[39m torch\u001b[39m.\u001b[39mtensor(test[x1],dtype\u001b[39m=\u001b[39mtorch\u001b[39m.\u001b[39mfloat32)\n\u001b[0;32m      <a href='vscode-notebook-cell:/c%3A/Users/13433/Desktop/trot.ipynb#X10sZmlsZQ%3D%3D?line=2'>3</a>\u001b[0m \u001b[39m####Transform the numpy to tensor####\u001b[39;00m\n",
      "\u001b[1;31mNameError\u001b[0m: name 'x' is not defined"
     ]
    }
   ],
   "source": [
    "test_x = torch.tensor(test_x,dtype=torch.float32)\n",
    "test_x1 = torch.tensor(test_x1,dtype=torch.float32)\n",
    "####Transform the numpy to tensor####\n",
    "print(\"Shape of train_x:\",train_x.shape)\n",
    "print(\"Shape of val_x:\",val_x.shape)\n",
    "print(\"Shape of test_x:\",test_x1.shape)\n"
   ]
  },
  {
   "cell_type": "code",
   "execution_count": 12,
   "metadata": {},
   "outputs": [],
   "source": [
    "class MLPNet(nn.Module):\n",
    "\n",
    "    def __init__(self):\n",
    "        super(MLPNet ,self).__init__()\n",
    "        self.FL1 = nn.Linear(540,128)\n",
    "        self.FL2 = nn.Linear(540,128)\n",
    "        self.FL = nn.Sequential(\n",
    "            nn.Linear(256,64),\n",
    "            nn.ReLU(),\n",
    "            nn.Linear(64,8),\n",
    "            nn.ReLU(),\n",
    "            nn.Linear(8,2)\n",
    "        )\n",
    "\n",
    "    def forward(self ,x ,x1):\n",
    "\n",
    "        x = F.relu(self.FL1(x))\n",
    "        x1 = F.relu(self.FL2(x1))\n",
    "        h = torch.concat((x,x1),0)\n",
    "        h = self.FL(h)\n",
    "        h = torch.softmax(h,dim=0)\n",
    "        return h"
   ]
  },
  {
   "cell_type": "code",
   "execution_count": 13,
   "metadata": {},
   "outputs": [],
   "source": [
    "def evaluator(y_test, y_pred):\n",
    "    TP = 0\n",
    "    FN = 0\n",
    "    FP = 0\n",
    "    TN = 0\n",
    "    for i in range(len(y_test)):\n",
    "        if y_test[i] == 0 and y_pred[i] == 0:\n",
    "            TP +=1\n",
    "        if y_test[i] == 0 and y_pred[i] == 1:\n",
    "            FN +=1\n",
    "        if y_test[i] == 1 and y_pred[i] == 0:\n",
    "            FP +=1\n",
    "        if y_test[i] == 1 and y_pred[i] == 1:\n",
    "            TN +=1\n",
    "    cm = np.array([[TP,FN],[FP,TN]])\n",
    "    accu = (TP+TN)/(TP+TN+FP+FN)\n",
    "    prec = TP/(TP+FP)\n",
    "    recall = TP/(TP+FN)\n",
    "    f1 = 2 *((prec*recall)/(prec + recall))\n",
    "    print(cm)\n",
    "    print()\n",
    "    print('Accuracy = {}\\n'. format(accu))\n",
    "    print('Precision = {}\\n'. format(prec))\n",
    "    print('Recall = {}\\n'. format(recall))\n",
    "    print('F1 score = {}\\n'. format(f1)) "
   ]
  },
  {
   "cell_type": "code",
   "execution_count": 23,
   "metadata": {},
   "outputs": [
    {
     "ename": "NameError",
     "evalue": "name 'train_x' is not defined",
     "output_type": "error",
     "traceback": [
      "\u001b[1;31m---------------------------------------------------------------------------\u001b[0m",
      "\u001b[1;31mNameError\u001b[0m                                 Traceback (most recent call last)",
      "\u001b[1;32mc:\\Users\\13433\\Desktop\\trot.ipynb Cell 11\u001b[0m line \u001b[0;36m1\n\u001b[0;32m     <a href='vscode-notebook-cell:/c%3A/Users/13433/Desktop/trot.ipynb#X13sZmlsZQ%3D%3D?line=11'>12</a>\u001b[0m Train_y \u001b[39m=\u001b[39m []\n\u001b[0;32m     <a href='vscode-notebook-cell:/c%3A/Users/13433/Desktop/trot.ipynb#X13sZmlsZQ%3D%3D?line=12'>13</a>\u001b[0m Train_pred \u001b[39m=\u001b[39m []\n\u001b[1;32m---> <a href='vscode-notebook-cell:/c%3A/Users/13433/Desktop/trot.ipynb#X13sZmlsZQ%3D%3D?line=13'>14</a>\u001b[0m \u001b[39mfor\u001b[39;00m x,x1,label \u001b[39min\u001b[39;00m \u001b[39mzip\u001b[39m(train_x,train_x1,train_label):\n\u001b[0;32m     <a href='vscode-notebook-cell:/c%3A/Users/13433/Desktop/trot.ipynb#X13sZmlsZQ%3D%3D?line=14'>15</a>\u001b[0m     x \u001b[39m=\u001b[39m x\u001b[39m.\u001b[39mto(device)\n\u001b[0;32m     <a href='vscode-notebook-cell:/c%3A/Users/13433/Desktop/trot.ipynb#X13sZmlsZQ%3D%3D?line=15'>16</a>\u001b[0m     x1 \u001b[39m=\u001b[39m x1\u001b[39m.\u001b[39mto(device)\n",
      "\u001b[1;31mNameError\u001b[0m: name 'train_x' is not defined"
     ]
    }
   ],
   "source": [
    "device = torch.device(\"cuda\" if torch.cuda.is_available() else \"cpu\")\n",
    "learning_rate = 0.001\n",
    "weight_decay = 5e-5\n",
    "model = MLPNet()\n",
    "model = model.to(device)\n",
    "opt = torch.optim.Adam(model.parameters(), lr=learning_rate, weight_decay=weight_decay)\n",
    "loss_calculation = nn.CrossEntropyLoss().to(device)\n",
    "epoch = 500\n",
    "############Training MLP#######\n",
    "for epoch in range(epoch):\n",
    "    sum = 0\n",
    "    Train_y = []\n",
    "    Train_pred = []\n",
    "    for x,x1,label in zip(train_x,train_x1,train_label):\n",
    "        x = x.to(device)\n",
    "        x1 = x1.to(device)\n",
    "        label = label.to(device)\n",
    "        pred = model(x,x1)\n",
    "        pred = torch.reshape(pred,[1,-1])\n",
    "        label = torch.reshape(label,[1,-1])\n",
    "        loss = loss_calculation(pred, label)\n",
    "        opt.zero_grad()\n",
    "        loss.backward()\n",
    "        opt.step()\n",
    "        pred = torch.argmax(pred, dim=1, keepdim=False)\n",
    "        label = torch.argmax(label, dim=1, keepdim=False)\n",
    "        Train_y.append(label)\n",
    "        Train_pred.append(pred)\n",
    "        for i, j in zip(pred, label):\n",
    "            if (i == j):\n",
    "                sum = sum + 1\n",
    "    print(\"epoch:{},Train_acc:{}\".format(epoch+1, sum/len(train_x)))\n",
    "evaluator(Train_y,Train_pred)\n",
    "\n",
    "print(device)"
   ]
  },
  {
   "cell_type": "code",
   "execution_count": 24,
   "metadata": {},
   "outputs": [
    {
     "ename": "NameError",
     "evalue": "name 'val_x' is not defined",
     "output_type": "error",
     "traceback": [
      "\u001b[1;31m---------------------------------------------------------------------------\u001b[0m",
      "\u001b[1;31mNameError\u001b[0m                                 Traceback (most recent call last)",
      "\u001b[1;32mc:\\Users\\13433\\Desktop\\trot.ipynb Cell 12\u001b[0m line \u001b[0;36m6\n\u001b[0;32m      <a href='vscode-notebook-cell:/c%3A/Users/13433/Desktop/trot.ipynb#X14sZmlsZQ%3D%3D?line=3'>4</a>\u001b[0m Val_pred \u001b[39m=\u001b[39m []\n\u001b[0;32m      <a href='vscode-notebook-cell:/c%3A/Users/13433/Desktop/trot.ipynb#X14sZmlsZQ%3D%3D?line=4'>5</a>\u001b[0m \u001b[39mwith\u001b[39;00m torch\u001b[39m.\u001b[39mno_grad():\n\u001b[1;32m----> <a href='vscode-notebook-cell:/c%3A/Users/13433/Desktop/trot.ipynb#X14sZmlsZQ%3D%3D?line=5'>6</a>\u001b[0m     \u001b[39mfor\u001b[39;00m x,x1,label \u001b[39min\u001b[39;00m \u001b[39mzip\u001b[39m(val_x,val_x1,val_label):\n\u001b[0;32m      <a href='vscode-notebook-cell:/c%3A/Users/13433/Desktop/trot.ipynb#X14sZmlsZQ%3D%3D?line=6'>7</a>\u001b[0m         x \u001b[39m=\u001b[39m x\u001b[39m.\u001b[39mto(device)\n\u001b[0;32m      <a href='vscode-notebook-cell:/c%3A/Users/13433/Desktop/trot.ipynb#X14sZmlsZQ%3D%3D?line=7'>8</a>\u001b[0m         x1 \u001b[39m=\u001b[39m x1\u001b[39m.\u001b[39mto(device)\n",
      "\u001b[1;31mNameError\u001b[0m: name 'val_x' is not defined"
     ]
    }
   ],
   "source": [
    "#####Validation#####\n",
    "sum = 0\n",
    "Val_y = []\n",
    "Val_pred = []\n",
    "with torch.no_grad():\n",
    "    for x,x1,label in zip(val_x,val_x1,val_label):\n",
    "        x = x.to(device)\n",
    "        x1 = x1.to(device)\n",
    "        label = label.to(device)\n",
    "        pred = model(x, x1)\n",
    "        pred = torch.reshape(pred, [1, -1])\n",
    "        label = torch.reshape(label, [1, -1])\n",
    "        loss = loss_calculation(pred, label)\n",
    "        pred = torch.argmax(pred, dim=1, keepdim=False)\n",
    "        label = torch.argmax(label, dim=1, keepdim=False)\n",
    "        for i, j in zip(pred, label):\n",
    "            if (i == j):\n",
    "                sum = sum + 1\n",
    "        Val_y.append(label)\n",
    "        Val_pred.append(pred)\n",
    "    print(\"epoch:{},val_acc:{}\".format(epoch + 1, sum / len(val_x)))\n",
    "    evaluator(Val_y, Val_pred)"
   ]
  },
  {
   "cell_type": "code",
   "execution_count": null,
   "metadata": {},
   "outputs": [],
   "source": [
    "###Test#####\n",
    "Test_pred = []\n",
    "for x,x1 in zip(test_x,test_x1):\n",
    "    x = x.to(device)\n",
    "    x1 = x1.to(device)\n",
    "    pred = model(x,x1)\n",
    "    pred = torch.argmax(pred, dim=0, keepdim=False)\n",
    "    pred = pred.item()\n",
    "    Test_pred.append(bool(pred))\n",
    "\n",
    "print(Test_pred)"
   ]
  }
 ],
 "metadata": {
  "kernelspec": {
   "display_name": "Python 3",
   "language": "python",
   "name": "python3"
  },
  "language_info": {
   "codemirror_mode": {
    "name": "ipython",
    "version": 3
   },
   "file_extension": ".py",
   "mimetype": "text/x-python",
   "name": "python",
   "nbconvert_exporter": "python",
   "pygments_lexer": "ipython3",
   "version": "3.11.4"
  }
 },
 "nbformat": 4,
 "nbformat_minor": 2
}
