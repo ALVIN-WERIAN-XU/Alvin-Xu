{
 "cells": [
  {
   "cell_type": "markdown",
   "metadata": {},
   "source": [
    "French Trot Horse Competition \n",
    "\n",
    "Weiran Xu\n",
    "Anthony Zhou\n",
    "Chang Xu"
   ]
  },
  {
   "cell_type": "code",
   "execution_count": 1,
   "metadata": {},
   "outputs": [
    {
     "ename": "ModuleNotFoundError",
     "evalue": "No module named 'sklearn'",
     "output_type": "error",
     "traceback": [
      "\u001b[1;31m---------------------------------------------------------------------------\u001b[0m",
      "\u001b[1;31mModuleNotFoundError\u001b[0m                       Traceback (most recent call last)",
      "\u001b[1;32mc:\\Users\\13433\\Documents\\WeChat Files\\wxid_srnrojk6l4sr22\\FileStorage\\File\\2023-11\\trot.ipynb Cell 1\u001b[0m line \u001b[0;36m2\n\u001b[0;32m      <a href='vscode-notebook-cell:/c%3A/Users/13433/Documents/WeChat%20Files/wxid_srnrojk6l4sr22/FileStorage/File/2023-11/trot.ipynb#W0sZmlsZQ%3D%3D?line=0'>1</a>\u001b[0m \u001b[39mimport\u001b[39;00m \u001b[39mpandas\u001b[39;00m \u001b[39mas\u001b[39;00m \u001b[39mpd\u001b[39;00m\n\u001b[1;32m----> <a href='vscode-notebook-cell:/c%3A/Users/13433/Documents/WeChat%20Files/wxid_srnrojk6l4sr22/FileStorage/File/2023-11/trot.ipynb#W0sZmlsZQ%3D%3D?line=1'>2</a>\u001b[0m \u001b[39mfrom\u001b[39;00m \u001b[39msklearn\u001b[39;00m\u001b[39m.\u001b[39;00m\u001b[39mpreprocessing\u001b[39;00m \u001b[39mimport\u001b[39;00m LabelEncoder\n\u001b[0;32m      <a href='vscode-notebook-cell:/c%3A/Users/13433/Documents/WeChat%20Files/wxid_srnrojk6l4sr22/FileStorage/File/2023-11/trot.ipynb#W0sZmlsZQ%3D%3D?line=2'>3</a>\u001b[0m \u001b[39mimport\u001b[39;00m \u001b[39mnumpy\u001b[39;00m \u001b[39mas\u001b[39;00m \u001b[39mnp\u001b[39;00m\n\u001b[0;32m      <a href='vscode-notebook-cell:/c%3A/Users/13433/Documents/WeChat%20Files/wxid_srnrojk6l4sr22/FileStorage/File/2023-11/trot.ipynb#W0sZmlsZQ%3D%3D?line=3'>4</a>\u001b[0m \u001b[39mimport\u001b[39;00m \u001b[39mpandas\u001b[39;00m \u001b[39mas\u001b[39;00m \u001b[39mpd\u001b[39;00m\n",
      "\u001b[1;31mModuleNotFoundError\u001b[0m: No module named 'sklearn'"
     ]
    }
   ],
   "source": [
    "import pandas as pd\n",
    "from sklearn.preprocessing import LabelEncoder\n",
    "import numpy as np\n",
    "import pandas as pd\n",
    "from sklearn.feature_extraction.text import TfidfVectorizer\n",
    "from torch.utils.data import dataset\n",
    "import torch\n",
    "import torch.nn as nn\n",
    "import torch.nn.functional as F"
   ]
  },
  {
   "cell_type": "code",
   "execution_count": 3,
   "metadata": {},
   "outputs": [],
   "source": [
    "drop_cols = [\"RaceStartTime\", \"FoalingDate\", \"ClassRestriction\"]\n",
    "\n",
    "Standard = [\"AgeRestriction\", \"Barrier\", \"ClassRestriction\", \"CourseIndicator\", \"DamID\", \"Distance\", \"FoalingCountry\",\n",
    "            \"FoalingDate\", \"FrontShoes\", \"Gender\", \"GoingAbbrev\", \"GoingID\", \"HandicapDistance\", \"HandicapType\",\n",
    "            \"HindShoes\", \"HorseAge\", \"HorseID\", \"JockeyID\", \"RaceGroup\", \"RaceID\", \"RacePrizemoney\", \"RaceStartTime\",\n",
    "            \"RacingSubType\", \"Saddlecloth\", \"SexRestriction\", \"SireID\", \"StartType\", \"StartingLine\", \"Surface\",\n",
    "            \"TrackID\", \"TrainerID\", \"WeightCarried\", \"WetnessScale\"]\n",
    "\n",
    "Performance = [\"BeatenMargin\", \"Disqualified\", \"FinishPosition\", \"PIRPosition\", \"Prizemoney\", \"RaceOverallTime\",\n",
    "               \"PriceSP\", \"NoFrontCover\", \"PositionInRunning\", \"WideOffRail\"]\n"
   ]
  },
  {
   "cell_type": "markdown",
   "metadata": {},
   "source": [
    "Split training and test dataset by the giving date"
   ]
  },
  {
   "cell_type": "code",
   "execution_count": 2,
   "metadata": {},
   "outputs": [
    {
     "ename": "FileNotFoundError",
     "evalue": "[Errno 2] No such file or directory: 'data.csv'",
     "output_type": "error",
     "traceback": [
      "\u001b[1;31m---------------------------------------------------------------------------\u001b[0m",
      "\u001b[1;31mFileNotFoundError\u001b[0m                         Traceback (most recent call last)",
      "\u001b[1;32mc:\\Users\\13433\\Documents\\WeChat Files\\wxid_srnrojk6l4sr22\\FileStorage\\File\\2023-11\\trot.ipynb Cell 3\u001b[0m line \u001b[0;36m1\n\u001b[1;32m----> <a href='vscode-notebook-cell:/c%3A/Users/13433/Documents/WeChat%20Files/wxid_srnrojk6l4sr22/FileStorage/File/2023-11/trot.ipynb#W2sZmlsZQ%3D%3D?line=0'>1</a>\u001b[0m df \u001b[39m=\u001b[39m pd\u001b[39m.\u001b[39;49mread_csv(\u001b[39m'\u001b[39;49m\u001b[39mdata.csv\u001b[39;49m\u001b[39m'\u001b[39;49m, index_col\u001b[39m=\u001b[39;49m\u001b[39m0\u001b[39;49m)\n\u001b[0;32m      <a href='vscode-notebook-cell:/c%3A/Users/13433/Documents/WeChat%20Files/wxid_srnrojk6l4sr22/FileStorage/File/2023-11/trot.ipynb#W2sZmlsZQ%3D%3D?line=1'>2</a>\u001b[0m object_columns \u001b[39m=\u001b[39m df\u001b[39m.\u001b[39mselect_dtypes(include\u001b[39m=\u001b[39m[\u001b[39m'\u001b[39m\u001b[39mobject\u001b[39m\u001b[39m'\u001b[39m])\u001b[39m.\u001b[39mcolumns\n\u001b[0;32m      <a href='vscode-notebook-cell:/c%3A/Users/13433/Documents/WeChat%20Files/wxid_srnrojk6l4sr22/FileStorage/File/2023-11/trot.ipynb#W2sZmlsZQ%3D%3D?line=2'>3</a>\u001b[0m df[\u001b[39m'\u001b[39m\u001b[39mRaceStartTime\u001b[39m\u001b[39m'\u001b[39m] \u001b[39m=\u001b[39m pd\u001b[39m.\u001b[39mto_datetime(df[\u001b[39m'\u001b[39m\u001b[39mRaceStartTime\u001b[39m\u001b[39m'\u001b[39m])\n",
      "File \u001b[1;32mc:\\Users\\13433\\AppData\\Local\\Programs\\Python\\Python311\\Lib\\site-packages\\pandas\\io\\parsers\\readers.py:912\u001b[0m, in \u001b[0;36mread_csv\u001b[1;34m(filepath_or_buffer, sep, delimiter, header, names, index_col, usecols, dtype, engine, converters, true_values, false_values, skipinitialspace, skiprows, skipfooter, nrows, na_values, keep_default_na, na_filter, verbose, skip_blank_lines, parse_dates, infer_datetime_format, keep_date_col, date_parser, date_format, dayfirst, cache_dates, iterator, chunksize, compression, thousands, decimal, lineterminator, quotechar, quoting, doublequote, escapechar, comment, encoding, encoding_errors, dialect, on_bad_lines, delim_whitespace, low_memory, memory_map, float_precision, storage_options, dtype_backend)\u001b[0m\n\u001b[0;32m    899\u001b[0m kwds_defaults \u001b[39m=\u001b[39m _refine_defaults_read(\n\u001b[0;32m    900\u001b[0m     dialect,\n\u001b[0;32m    901\u001b[0m     delimiter,\n\u001b[1;32m   (...)\u001b[0m\n\u001b[0;32m    908\u001b[0m     dtype_backend\u001b[39m=\u001b[39mdtype_backend,\n\u001b[0;32m    909\u001b[0m )\n\u001b[0;32m    910\u001b[0m kwds\u001b[39m.\u001b[39mupdate(kwds_defaults)\n\u001b[1;32m--> 912\u001b[0m \u001b[39mreturn\u001b[39;00m _read(filepath_or_buffer, kwds)\n",
      "File \u001b[1;32mc:\\Users\\13433\\AppData\\Local\\Programs\\Python\\Python311\\Lib\\site-packages\\pandas\\io\\parsers\\readers.py:577\u001b[0m, in \u001b[0;36m_read\u001b[1;34m(filepath_or_buffer, kwds)\u001b[0m\n\u001b[0;32m    574\u001b[0m _validate_names(kwds\u001b[39m.\u001b[39mget(\u001b[39m\"\u001b[39m\u001b[39mnames\u001b[39m\u001b[39m\"\u001b[39m, \u001b[39mNone\u001b[39;00m))\n\u001b[0;32m    576\u001b[0m \u001b[39m# Create the parser.\u001b[39;00m\n\u001b[1;32m--> 577\u001b[0m parser \u001b[39m=\u001b[39m TextFileReader(filepath_or_buffer, \u001b[39m*\u001b[39;49m\u001b[39m*\u001b[39;49mkwds)\n\u001b[0;32m    579\u001b[0m \u001b[39mif\u001b[39;00m chunksize \u001b[39mor\u001b[39;00m iterator:\n\u001b[0;32m    580\u001b[0m     \u001b[39mreturn\u001b[39;00m parser\n",
      "File \u001b[1;32mc:\\Users\\13433\\AppData\\Local\\Programs\\Python\\Python311\\Lib\\site-packages\\pandas\\io\\parsers\\readers.py:1407\u001b[0m, in \u001b[0;36mTextFileReader.__init__\u001b[1;34m(self, f, engine, **kwds)\u001b[0m\n\u001b[0;32m   1404\u001b[0m     \u001b[39mself\u001b[39m\u001b[39m.\u001b[39moptions[\u001b[39m\"\u001b[39m\u001b[39mhas_index_names\u001b[39m\u001b[39m\"\u001b[39m] \u001b[39m=\u001b[39m kwds[\u001b[39m\"\u001b[39m\u001b[39mhas_index_names\u001b[39m\u001b[39m\"\u001b[39m]\n\u001b[0;32m   1406\u001b[0m \u001b[39mself\u001b[39m\u001b[39m.\u001b[39mhandles: IOHandles \u001b[39m|\u001b[39m \u001b[39mNone\u001b[39;00m \u001b[39m=\u001b[39m \u001b[39mNone\u001b[39;00m\n\u001b[1;32m-> 1407\u001b[0m \u001b[39mself\u001b[39m\u001b[39m.\u001b[39m_engine \u001b[39m=\u001b[39m \u001b[39mself\u001b[39;49m\u001b[39m.\u001b[39;49m_make_engine(f, \u001b[39mself\u001b[39;49m\u001b[39m.\u001b[39;49mengine)\n",
      "File \u001b[1;32mc:\\Users\\13433\\AppData\\Local\\Programs\\Python\\Python311\\Lib\\site-packages\\pandas\\io\\parsers\\readers.py:1661\u001b[0m, in \u001b[0;36mTextFileReader._make_engine\u001b[1;34m(self, f, engine)\u001b[0m\n\u001b[0;32m   1659\u001b[0m     \u001b[39mif\u001b[39;00m \u001b[39m\"\u001b[39m\u001b[39mb\u001b[39m\u001b[39m\"\u001b[39m \u001b[39mnot\u001b[39;00m \u001b[39min\u001b[39;00m mode:\n\u001b[0;32m   1660\u001b[0m         mode \u001b[39m+\u001b[39m\u001b[39m=\u001b[39m \u001b[39m\"\u001b[39m\u001b[39mb\u001b[39m\u001b[39m\"\u001b[39m\n\u001b[1;32m-> 1661\u001b[0m \u001b[39mself\u001b[39m\u001b[39m.\u001b[39mhandles \u001b[39m=\u001b[39m get_handle(\n\u001b[0;32m   1662\u001b[0m     f,\n\u001b[0;32m   1663\u001b[0m     mode,\n\u001b[0;32m   1664\u001b[0m     encoding\u001b[39m=\u001b[39;49m\u001b[39mself\u001b[39;49m\u001b[39m.\u001b[39;49moptions\u001b[39m.\u001b[39;49mget(\u001b[39m\"\u001b[39;49m\u001b[39mencoding\u001b[39;49m\u001b[39m\"\u001b[39;49m, \u001b[39mNone\u001b[39;49;00m),\n\u001b[0;32m   1665\u001b[0m     compression\u001b[39m=\u001b[39;49m\u001b[39mself\u001b[39;49m\u001b[39m.\u001b[39;49moptions\u001b[39m.\u001b[39;49mget(\u001b[39m\"\u001b[39;49m\u001b[39mcompression\u001b[39;49m\u001b[39m\"\u001b[39;49m, \u001b[39mNone\u001b[39;49;00m),\n\u001b[0;32m   1666\u001b[0m     memory_map\u001b[39m=\u001b[39;49m\u001b[39mself\u001b[39;49m\u001b[39m.\u001b[39;49moptions\u001b[39m.\u001b[39;49mget(\u001b[39m\"\u001b[39;49m\u001b[39mmemory_map\u001b[39;49m\u001b[39m\"\u001b[39;49m, \u001b[39mFalse\u001b[39;49;00m),\n\u001b[0;32m   1667\u001b[0m     is_text\u001b[39m=\u001b[39;49mis_text,\n\u001b[0;32m   1668\u001b[0m     errors\u001b[39m=\u001b[39;49m\u001b[39mself\u001b[39;49m\u001b[39m.\u001b[39;49moptions\u001b[39m.\u001b[39;49mget(\u001b[39m\"\u001b[39;49m\u001b[39mencoding_errors\u001b[39;49m\u001b[39m\"\u001b[39;49m, \u001b[39m\"\u001b[39;49m\u001b[39mstrict\u001b[39;49m\u001b[39m\"\u001b[39;49m),\n\u001b[0;32m   1669\u001b[0m     storage_options\u001b[39m=\u001b[39;49m\u001b[39mself\u001b[39;49m\u001b[39m.\u001b[39;49moptions\u001b[39m.\u001b[39;49mget(\u001b[39m\"\u001b[39;49m\u001b[39mstorage_options\u001b[39;49m\u001b[39m\"\u001b[39;49m, \u001b[39mNone\u001b[39;49;00m),\n\u001b[0;32m   1670\u001b[0m )\n\u001b[0;32m   1671\u001b[0m \u001b[39massert\u001b[39;00m \u001b[39mself\u001b[39m\u001b[39m.\u001b[39mhandles \u001b[39mis\u001b[39;00m \u001b[39mnot\u001b[39;00m \u001b[39mNone\u001b[39;00m\n\u001b[0;32m   1672\u001b[0m f \u001b[39m=\u001b[39m \u001b[39mself\u001b[39m\u001b[39m.\u001b[39mhandles\u001b[39m.\u001b[39mhandle\n",
      "File \u001b[1;32mc:\\Users\\13433\\AppData\\Local\\Programs\\Python\\Python311\\Lib\\site-packages\\pandas\\io\\common.py:859\u001b[0m, in \u001b[0;36mget_handle\u001b[1;34m(path_or_buf, mode, encoding, compression, memory_map, is_text, errors, storage_options)\u001b[0m\n\u001b[0;32m    854\u001b[0m \u001b[39melif\u001b[39;00m \u001b[39misinstance\u001b[39m(handle, \u001b[39mstr\u001b[39m):\n\u001b[0;32m    855\u001b[0m     \u001b[39m# Check whether the filename is to be opened in binary mode.\u001b[39;00m\n\u001b[0;32m    856\u001b[0m     \u001b[39m# Binary mode does not support 'encoding' and 'newline'.\u001b[39;00m\n\u001b[0;32m    857\u001b[0m     \u001b[39mif\u001b[39;00m ioargs\u001b[39m.\u001b[39mencoding \u001b[39mand\u001b[39;00m \u001b[39m\"\u001b[39m\u001b[39mb\u001b[39m\u001b[39m\"\u001b[39m \u001b[39mnot\u001b[39;00m \u001b[39min\u001b[39;00m ioargs\u001b[39m.\u001b[39mmode:\n\u001b[0;32m    858\u001b[0m         \u001b[39m# Encoding\u001b[39;00m\n\u001b[1;32m--> 859\u001b[0m         handle \u001b[39m=\u001b[39m \u001b[39mopen\u001b[39;49m(\n\u001b[0;32m    860\u001b[0m             handle,\n\u001b[0;32m    861\u001b[0m             ioargs\u001b[39m.\u001b[39;49mmode,\n\u001b[0;32m    862\u001b[0m             encoding\u001b[39m=\u001b[39;49mioargs\u001b[39m.\u001b[39;49mencoding,\n\u001b[0;32m    863\u001b[0m             errors\u001b[39m=\u001b[39;49merrors,\n\u001b[0;32m    864\u001b[0m             newline\u001b[39m=\u001b[39;49m\u001b[39m\"\u001b[39;49m\u001b[39m\"\u001b[39;49m,\n\u001b[0;32m    865\u001b[0m         )\n\u001b[0;32m    866\u001b[0m     \u001b[39melse\u001b[39;00m:\n\u001b[0;32m    867\u001b[0m         \u001b[39m# Binary mode\u001b[39;00m\n\u001b[0;32m    868\u001b[0m         handle \u001b[39m=\u001b[39m \u001b[39mopen\u001b[39m(handle, ioargs\u001b[39m.\u001b[39mmode)\n",
      "\u001b[1;31mFileNotFoundError\u001b[0m: [Errno 2] No such file or directory: 'data.csv'"
     ]
    }
   ],
   "source": [
    "df = pd.read_csv('data.csv', index_col=0)\n",
    "object_columns = df.select_dtypes(include=['object']).columns\n",
    "df['RaceStartTime'] = pd.to_datetime(df['RaceStartTime'])\n",
    "df_before_2021 = df[df['RaceStartTime'] < '2021-11-01']\n",
    "df_after_2021 = df[df['RaceStartTime'] >= '2021-11-01']\n",
    "df_before_2021_index = df_before_2021.index\n",
    "df_after_2021_index = df_after_2021.index"
   ]
  },
  {
   "cell_type": "code",
   "execution_count": null,
   "metadata": {},
   "outputs": [],
   "source": [
    "# 1. convert all object data to strings\n",
    "df = df.apply(lambda v: v.astype(str).str.strip() if v.dtype == \"object\" else v)\n",
    "# 2. Analyze the values of each column of data\n",
    "# for column in object_columns:\n",
    "#     print(f\"{column}: {df[column].nunique()}\")\n",
    "# 3. drop useless data columns\n",
    "df = df.drop(drop_cols, axis=1)\n",
    "object_columns = [col for col in object_columns if col not in drop_cols]\n",
    "print(object_columns)\n",
    "# Exclude columns from labels\n",
    "object_columns = [col for col in object_columns if col not in Performance]\n",
    "# 4. Normalization of numerical data\n",
    "for column in Standard:\n",
    "    if column not in drop_cols and column not in object_columns:\n",
    "        df[column] = (df[column] - df[column].mean()) / df[column].std()\n",
    "# 5. Unique heat coding for non-numeric columns\n",
    "df = pd.get_dummies(df, columns=object_columns)\n",
    "# 6. Delineation of training and test sets\n",
    "df_train = df.loc[df_before_2021_index]\n",
    "df_test = df.loc[df_after_2021_index]"
   ]
  },
  {
   "cell_type": "code",
   "execution_count": null,
   "metadata": {},
   "outputs": [],
   "source": [
    "tfidf = TfidfVectorizer(sublinear_tf=True, min_df=5)#, stop_words='english')\n",
    "train = tfidf.fit_transform(df_train).toarray()\n",
    "test =  tfidf.transform(df_test).toarray()\n"
   ]
  },
  {
   "cell_type": "code",
   "execution_count": null,
   "metadata": {},
   "outputs": [],
   "source": [
    "test_x = torch.tensor(test_x,dtype=torch.float32)\n",
    "test_x1 = torch.tensor(test_x1,dtype=torch.float32)\n",
    "####Transform the numpy to tensor####\n",
    "print(\"Shape of train_x:\",train_x.shape)\n",
    "print(\"Shape of val_x:\",val_x.shape)\n",
    "print(\"Shape of test_x:\",test_x1.shape)\n"
   ]
  },
  {
   "cell_type": "code",
   "execution_count": null,
   "metadata": {},
   "outputs": [],
   "source": [
    "class MLPNet(nn.Module):\n",
    "\n",
    "    def __init__(self):\n",
    "        super(MLPNet ,self).__init__()\n",
    "        self.FL1 = nn.Linear(540,128)\n",
    "        self.FL2 = nn.Linear(540,128)\n",
    "        self.FL = nn.Sequential(\n",
    "            nn.Linear(256,64),\n",
    "            nn.ReLU(),\n",
    "            nn.Linear(64,8),\n",
    "            nn.ReLU(),\n",
    "            nn.Linear(8,2)\n",
    "        )\n",
    "\n",
    "    def forward(self ,x ,x1):\n",
    "\n",
    "        x = F.relu(self.FL1(x))\n",
    "        x1 = F.relu(self.FL2(x1))\n",
    "        h = torch.concat((x,x1),0)\n",
    "        h = self.FL(h)\n",
    "        h = torch.softmax(h,dim=0)\n",
    "        return h"
   ]
  },
  {
   "cell_type": "code",
   "execution_count": null,
   "metadata": {},
   "outputs": [],
   "source": [
    "def evaluator(y_test, y_pred):\n",
    "    TP = 0\n",
    "    FN = 0\n",
    "    FP = 0\n",
    "    TN = 0\n",
    "    for i in range(len(y_test)):\n",
    "        if y_test[i] == 0 and y_pred[i] == 0:\n",
    "            TP +=1\n",
    "        if y_test[i] == 0 and y_pred[i] == 1:\n",
    "            FN +=1\n",
    "        if y_test[i] == 1 and y_pred[i] == 0:\n",
    "            FP +=1\n",
    "        if y_test[i] == 1 and y_pred[i] == 1:\n",
    "            TN +=1\n",
    "    cm = np.array([[TP,FN],[FP,TN]])\n",
    "    accu = (TP+TN)/(TP+TN+FP+FN)\n",
    "    prec = TP/(TP+FP)\n",
    "    recall = TP/(TP+FN)\n",
    "    f1 = 2 *((prec*recall)/(prec + recall))\n",
    "    print(cm)\n",
    "    print()\n",
    "    print('Accuracy = {}\\n'. format(accu))\n",
    "    print('Precision = {}\\n'. format(prec))\n",
    "    print('Recall = {}\\n'. format(recall))\n",
    "    print('F1 score = {}\\n'. format(f1)) "
   ]
  },
  {
   "cell_type": "code",
   "execution_count": null,
   "metadata": {},
   "outputs": [],
   "source": [
    "device = torch.device(\"cuda\" if torch.cuda.is_available() else \"cpu\")\n",
    "learning_rate = 0.001\n",
    "weight_decay = 5e-5\n",
    "model = MLPNet()\n",
    "model = model.to(device)\n",
    "opt = torch.optim.Adam(model.parameters(), lr=learning_rate, weight_decay=weight_decay)\n",
    "loss_calculation = nn.CrossEntropyLoss().to(device)\n",
    "epoch = 500\n",
    "############Training MLP#######\n",
    "for epoch in range(epoch):\n",
    "    sum = 0\n",
    "    Train_y = []\n",
    "    Train_pred = []\n",
    "    for x,x1,label in zip(train_x,train_x1,train_label):\n",
    "        x = x.to(device)\n",
    "        x1 = x1.to(device)\n",
    "        label = label.to(device)\n",
    "        pred = model(x,x1)\n",
    "        pred = torch.reshape(pred,[1,-1])\n",
    "        label = torch.reshape(label,[1,-1])\n",
    "        loss = loss_calculation(pred, label)\n",
    "        opt.zero_grad()\n",
    "        loss.backward()\n",
    "        opt.step()\n",
    "        pred = torch.argmax(pred, dim=1, keepdim=False)\n",
    "        label = torch.argmax(label, dim=1, keepdim=False)\n",
    "        Train_y.append(label)\n",
    "        Train_pred.append(pred)\n",
    "        for i, j in zip(pred, label):\n",
    "            if (i == j):\n",
    "                sum = sum + 1\n",
    "    print(\"epoch:{},Train_acc:{}\".format(epoch+1, sum/len(train_x)))\n",
    "evaluator(Train_y,Train_pred)\n",
    "\n",
    "print(device)"
   ]
  },
  {
   "cell_type": "code",
   "execution_count": null,
   "metadata": {},
   "outputs": [],
   "source": [
    "#####Validation#####\n",
    "sum = 0\n",
    "Val_y = []\n",
    "Val_pred = []\n",
    "with torch.no_grad():\n",
    "    for x,x1,label in zip(val_x,val_x1,val_label):\n",
    "        x = x.to(device)\n",
    "        x1 = x1.to(device)\n",
    "        label = label.to(device)\n",
    "        pred = model(x, x1)\n",
    "        pred = torch.reshape(pred, [1, -1])\n",
    "        label = torch.reshape(label, [1, -1])\n",
    "        loss = loss_calculation(pred, label)\n",
    "        pred = torch.argmax(pred, dim=1, keepdim=False)\n",
    "        label = torch.argmax(label, dim=1, keepdim=False)\n",
    "        for i, j in zip(pred, label):\n",
    "            if (i == j):\n",
    "                sum = sum + 1\n",
    "        Val_y.append(label)\n",
    "        Val_pred.append(pred)\n",
    "    print(\"epoch:{},val_acc:{}\".format(epoch + 1, sum / len(val_x)))\n",
    "    evaluator(Val_y, Val_pred)"
   ]
  },
  {
   "cell_type": "code",
   "execution_count": null,
   "metadata": {},
   "outputs": [],
   "source": [
    "###Test#####\n",
    "Test_pred = []\n",
    "for x,x1 in zip(test_x,test_x1):\n",
    "    x = x.to(device)\n",
    "    x1 = x1.to(device)\n",
    "    pred = model(x,x1)\n",
    "    pred = torch.argmax(pred, dim=0, keepdim=False)\n",
    "    pred = pred.item()\n",
    "    Test_pred.append(bool(pred))\n",
    "\n",
    "print(Test_pred)"
   ]
  }
 ],
 "metadata": {
  "kernelspec": {
   "display_name": "Python 3",
   "language": "python",
   "name": "python3"
  },
  "language_info": {
   "codemirror_mode": {
    "name": "ipython",
    "version": 3
   },
   "file_extension": ".py",
   "mimetype": "text/x-python",
   "name": "python",
   "nbconvert_exporter": "python",
   "pygments_lexer": "ipython3",
   "version": "3.11.4"
  }
 },
 "nbformat": 4,
 "nbformat_minor": 2
}
